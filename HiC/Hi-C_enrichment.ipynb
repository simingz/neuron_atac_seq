{
 "cells": [
  {
   "cell_type": "markdown",
   "metadata": {},
   "source": [
    "## task description"
   ]
  },
  {
   "cell_type": "markdown",
   "metadata": {},
   "source": [
    "Test if ASoC-gene pairs that are connected by Hi-C contacts (Hi-C pairs) have a higher proportion of eqtl-gene fraction compared to all snp-gene within 500kb distance.\n",
    "\n",
    "use CMC data to define eqtl-gene."
   ]
  },
  {
   "cell_type": "code",
   "execution_count": 87,
   "metadata": {},
   "outputs": [],
   "source": [
    "import csv\n",
    "import pybedtools\n",
    "import scipy.stats as stats\n",
    "import matplotlib.pyplot as plt\n",
    "import numpy as np"
   ]
  },
  {
   "cell_type": "code",
   "execution_count": 45,
   "metadata": {},
   "outputs": [],
   "source": [
    "dista = 500000\n",
    "snpf = '/home/simingz/neuron_atac_seq/eQTL/CN_20_ASoC_FDR0.05.bed.chrpos.hg19'\n",
    "hicbedf = 'CN.hic.bed'\n",
    "annof ='genecode.v29lift37.genes'\n",
    "eqtlf = '/home/simingz/neuron_atac_seq/eQTL/CMC_MSSM-Penn-Pitt_DLPFC_mRNA_eQTL-adjustedSVA.txt'"
   ]
  },
  {
   "cell_type": "code",
   "execution_count": 38,
   "metadata": {},
   "outputs": [
    {
     "name": "stdout",
     "output_type": "stream",
     "text": [
      "Number of SNPs: 5610\n",
      "Number of SNP-gene pairs: 156253\n"
     ]
    }
   ],
   "source": [
    "# snp-gene pairs (defined based on distance)\n",
    "snp = []\n",
    "with open(snpf, 'r') as f:\n",
    "    csv_reader = csv.reader(f)\n",
    "    next(csv_reader)\n",
    "    for row in csv_reader:\n",
    "        snp.append('chr' + row[0])\n",
    "        \n",
    "snpb = []\n",
    "for s in snp:\n",
    "    chrom = s.split(\":\")[0]\n",
    "    pos = int(s.split(\":\")[1])\n",
    "    bedstart = max(int(pos - dista - 1),int(0))\n",
    "    bedend = int(pos + dista)\n",
    "    snpb.append([chrom, bedstart, bedend])\n",
    "print(\"Number of SNPs: \" + str(len(snpb)))\n",
    "\n",
    "snpbed = pybedtools.BedTool(snpb)\n",
    "annobed = pybedtools.BedTool(annof)\n",
    "snpgene = snpbed.intersect(annobed, wo=True)\n",
    "snpgene0 = []\n",
    "for i in snpgene:\n",
    "    i.start = i.end - dista - 1 \n",
    "    i.end = i.end - dista\n",
    "    snpgene0.append(i)\n",
    "snpgene0 = pybedtools.BedTool(snpgene0)\n",
    "print(\"Number of SNP-gene pairs: \" + str(len(snpgene0)))\n",
    "\n",
    "snpgenep = [i[0] + \":\" + i[2] + '-' + i[7].split('.')[0] for i in snpgene0] # chrom:pos-gene\n",
    "snpgenep = set(snpgenep)"
   ]
  },
  {
   "cell_type": "code",
   "execution_count": 43,
   "metadata": {},
   "outputs": [
    {
     "name": "stdout",
     "output_type": "stream",
     "text": [
      "Number of HiC pairs: 883\n"
     ]
    }
   ],
   "source": [
    "# HiC pairs\n",
    "hicbed = pybedtools.BedTool(hicbedf)\n",
    "hicp0 = [i[0] + \":\" + i[2] + '-' + i[11].split('.')[0] for i in hicbed] # chrom:pos-gene\n",
    "hicp = set(hicp0)\n",
    "print(\"Number of HiC pairs: \" + str(len(hicp)))"
   ]
  },
  {
   "cell_type": "code",
   "execution_count": 46,
   "metadata": {},
   "outputs": [],
   "source": [
    "# eqtl\n",
    "eqtl = []\n",
    "with open(eqtlf, 'r') as f:\n",
    "    csv_reader = csv.reader(f, delimiter = ' ')\n",
    "    next(csv_reader)\n",
    "    for row in csv_reader:\n",
    "        try:\n",
    "            eqtl.append('-'.join([row[7], row[1]])) # 'chrx:xx-gene'\n",
    "        except IndexError:\n",
    "            print(row)\n",
    "eqtl = set(eqtl)"
   ]
  },
  {
   "cell_type": "code",
   "execution_count": 73,
   "metadata": {},
   "outputs": [],
   "source": [
    "eqtldis = []\n",
    "with open(eqtlf, 'r') as f:\n",
    "    csv_reader = csv.reader(f, delimiter = ' ')\n",
    "    next(csv_reader)\n",
    "    for row in csv_reader:\n",
    "        if row[13] != 'trans':\n",
    "            try:\n",
    "                eqtldis.append(abs(int(row[7].split(\":\")[1]) - int(row[11].split(\":\")[1].split(\"..\")[0]))) # 'chrx:xx-gene'\n",
    "            except IndexError:\n",
    "                print(row)\n"
   ]
  },
  {
   "cell_type": "code",
   "execution_count": 76,
   "metadata": {},
   "outputs": [
    {
     "data": {
      "image/png": "[encoded data removed]",
      "text/plain": [
       "<Figure size 432x288 with 1 Axes>"
      ]
     },
     "metadata": {
      "needs_background": "light"
     },
     "output_type": "display_data"
    }
   ],
   "source": [
    "a = plt.hist(eqtldis,200)"
   ]
  },
  {
   "cell_type": "code",
   "execution_count": 114,
   "metadata": {},
   "outputs": [],
   "source": [
    "hicdis = []\n",
    "with open('Neu.50000_blocks.bed', 'r') as f:\n",
    "    csv_reader = csv.reader(f, delimiter = '\\t')\n",
    "    for row in csv_reader:\n",
    "        try:\n",
    "            hicdis.append(abs(int(row[2])-int(row[1])))\n",
    "        except IndexError:\n",
    "            print(row)"
   ]
  },
  {
   "cell_type": "code",
   "execution_count": 115,
   "metadata": {},
   "outputs": [
    {
     "data": {
      "image/png": "[encoded data removed]",
      "text/plain": [
       "<Figure size 432x288 with 1 Axes>"
      ]
     },
     "metadata": {
      "needs_background": "light"
     },
     "output_type": "display_data"
    }
   ],
   "source": [
    "b=plt.hist(hicdis,200)"
   ]
  },
  {
   "cell_type": "code",
   "execution_count": 116,
   "metadata": {},
   "outputs": [],
   "source": [
    "a = np.array(hicdis)"
   ]
  },
  {
   "cell_type": "code",
   "execution_count": 118,
   "metadata": {},
   "outputs": [
    {
     "data": {
      "text/plain": [
       "1592594.0594059406"
      ]
     },
     "execution_count": 118,
     "metadata": {},
     "output_type": "execute_result"
    }
   ],
   "source": [
    "np.average(a)"
   ]
  },
  {
   "cell_type": "code",
   "execution_count": 93,
   "metadata": {},
   "outputs": [
    {
     "data": {
      "text/plain": [
       "2525"
      ]
     },
     "execution_count": 93,
     "metadata": {},
     "output_type": "execute_result"
    }
   ],
   "source": [
    "len(a)"
   ]
  },
  {
   "cell_type": "code",
   "execution_count": null,
   "metadata": {},
   "outputs": [],
   "source": []
  }
 ],
 "metadata": {
  "kernelspec": {
   "display_name": "Python [conda env:testotherpy3]",
   "language": "python",
   "name": "conda-env-testotherpy3-py"
  },
  "language_info": {
   "codemirror_mode": {
    "name": "ipython",
    "version": 3
   },
   "file_extension": ".py",
   "mimetype": "text/x-python",
   "name": "python",
   "nbconvert_exporter": "python",
   "pygments_lexer": "ipython3",
   "version": "3.6.7"
  }
 },
 "nbformat": 4,
 "nbformat_minor": 2
}
