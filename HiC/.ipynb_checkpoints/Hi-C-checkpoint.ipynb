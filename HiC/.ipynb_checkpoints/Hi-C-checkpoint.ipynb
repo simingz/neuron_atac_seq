{
 "cells": [
  {
   "cell_type": "markdown",
   "metadata": {},
   "source": [
    "## task:\n",
    "we need to map a peak to one chunk in the bed file, and then see if the other chunk in contact with it is the promoter of any gene.\n",
    "\n",
    "* SNP to peak definition:  \n",
    "+/- 250bp of peak region\n",
    "\n",
    "* promoter definition:  \n",
    "5kb upstream of gene TSS \n",
    "\n",
    "* in contact definition:  \n",
    "each row in the Hi-C file defines in contact.\n",
    "\n",
    "* peak-HiC and promoter-HiC contact\n",
    "20% overlap of peak size between peak and hic, 20% overlap of promoter size between promoter and hic.\n",
    "\n",
    "## format:\n",
    "* Hi-C files  \n",
    "\n",
    "    * [PsychEncode data](https://science.sciencemag.org/content/362/6420/eaat4311), obtained from Siwei, in hg19, a Hi-C bed file with the name XXX.50000_blocks.bed, each number A in the 2nd/3rd column represents a fragment that spans from A to A+50000.\n",
    "    * [Nature 2016](https://www.nature.com/articles/nature19847)\n",
    "    * [NG 2019](http://dx.doi.org/10.1038/s41588-019-0472-1)\n",
    "\n",
    "\n",
    "* ASoC SNP file  \n",
    "in hg38.\n",
    "\n",
    "* peak file  \n",
    "in hg38. CN means glutamatergic neurons, and I guess we should use Hi-C files starting with 'Neu';\n",
    "NSC means neural progenitor cells, and I guess we should use Hi-C files starting with 'NPC'.\n",
    "\n",
    "* gene anno file  \n",
    "in hg19.\n",
    "\n",
    "## file source\n",
    "`genecode.v29lift37.genes` from zhongshan.  \n",
    "the rest from yifan."
   ]
  },
  {
   "cell_type": "code",
   "execution_count": 1,
   "metadata": {},
   "outputs": [
    {
     "name": "stdout",
     "output_type": "stream",
     "text": [
      "/project2/xinhe/simingz/neuron_atac_seq/HiC\n"
     ]
    }
   ],
   "source": [
    "cd /project2/xinhe/simingz/neuron_atac_seq/HiC"
   ]
  },
  {
   "cell_type": "code",
   "execution_count": 1,
   "metadata": {},
   "outputs": [],
   "source": [
    "# promoter annotation file\n",
    "!mv genecode.v29lift37.genes genecode.v29lift37.genes.ori\n",
    "!awk -F'\\t' '$2 >0 && $1 ~ /chr/ {print $0}' genecode.v29lift37.genes.ori > genecode.v29lift37.genes\n",
    "!awk 'BEGIN{FS=\"\\t\";OFS=\"\\t\"}{if($4==\"+\"){print $1,$2-3000,$2,$5}else{print $1,$3,$3+3000,$5}}'  genecode.v29lift37.genes > genecode.v29lift37.genes.promoter"
   ]
  },
  {
   "cell_type": "code",
   "execution_count": 3,
   "metadata": {},
   "outputs": [],
   "source": [
    "# HiC file to canonical bed file and duplicate each entry by switching order of the two ends\n",
    "!awk -F'\\t' '{print \"chr\"$1\"\\t\"$2\"\\t\"$2+50000\"\\t\"$3\"\\t\"$3+50000\"\\nchr\"$1\"\\t\"$3\"\\t\"$3+50000\"\\t\"$2\"\\t\"$2+50000}' NPC.50000_blocks.bed > NPC.50000_blocks.converted.bed\n",
    "!awk -F'\\t' '{print \"chr\"$1\"\\t\"$2\"\\t\"$2+50000\"\\t\"$3\"\\t\"$3+50000\"\\nchr\"$1\"\\t\"$3\"\\t\"$3+50000\"\\t\"$2\"\\t\"$2+50000}' Neu.50000_blocks.bed > Neu.50000_blocks.converted.bed\n",
    "!awk -F'\\t' '{print \"chr\"$1\"\\t\"$2\"\\t\"$2+100000\"\\t\"$3\"\\t\"$3+100000\"\\nchr\"$1\"\\t\"$3\"\\t\"$3+100000\"\\t\"$2\"\\t\"$2+100000}' NPC.100000_blocks.bed > NPC.100000_blocks.converted.bed\n",
    "!awk -F'\\t' '{print \"chr\"$1\"\\t\"$2\"\\t\"$2+100000\"\\t\"$3\"\\t\"$3+100000\"\\nchr\"$1\"\\t\"$3\"\\t\"$3+100000\"\\t\"$2\"\\t\"$2+100000}' Neu.100000_blocks.bed > Neu.100000_blocks.converted.bed"
   ]
  },
  {
   "cell_type": "code",
   "execution_count": 4,
   "metadata": {},
   "outputs": [],
   "source": [
    "import pybedtools\n",
    "from pyliftover import LiftOver\n",
    "def snp2gene(snpf, peakf, hicf, annof, outtag):\n",
    "    '''snp to peak to gene promoter\n",
    "    '''\n",
    "    # snp to peak\n",
    "    peakflsize = 250\n",
    "    snps = pybedtools.BedTool(snpf)\n",
    "    peaks = pybedtools.BedTool(peakf)\n",
    "    peaksfl = peaks.slop(genome = 'hg38', b = peakflsize)\n",
    "    snp2peak = snps.intersect(peaksfl, wb=True)\n",
    "    snp2peak.saveas(outtag + '.snp2peak.bed')  \n",
    "    \n",
    "    # snp2peak liftover\n",
    "    lo = LiftOver('hg38', 'hg19')\n",
    "    with open(outtag + '.snp2peak.lo.bed', 'w') as snp2peaklo:\n",
    "        for snp in snp2peak:\n",
    "            s = lo.convert_coordinate(snp.fields[8], int(snp.fields[9]))\n",
    "            e = lo.convert_coordinate(snp.fields[8], int(snp.fields[10]))\n",
    "            if len(s) !=0 and len(e) != 0:\n",
    "                if s[0][0] == e[0][0] and s[0][1] < e[0][1]:\n",
    "                    peaklo = [s[0][0], str(s[0][1]), str(e[0][1])]\n",
    "                    snp2peaklo.write('\\t'.join(peaklo + list(snp)) + '\\n')\n",
    "    \n",
    "    # annotate with HiC contact\n",
    "    hics = pybedtools.BedTool(hicf)\n",
    "    snppeak = pybedtools.BedTool(outtag + '.snp2peak.lo.bed')\n",
    "    snppeakhic = snppeak.intersect(hics, wao=True, f=0.2)\n",
    "    \n",
    "    # annotate the other end with promoter info\n",
    "    snppeakhic1 = pybedtools.BedTool([[i[14]] + i[17:19] + i[0:17] + [i[19]] for i in snppeakhic if i[19]!='0'])\n",
    "    annos= pybedtools.BedTool(annof)\n",
    "    snppeakhic2 = snppeakhic1.intersect(annos, wao= True, F=0.2)\n",
    "    out = pybedtools.BedTool([i for i in snppeakhic2 if i[25] != '0'])\n",
    "    \n",
    "    # write output\n",
    "    with open(outtag + '.bed', 'w') as outfile:\n",
    "        # outfile.write('\\t'.join(['SNP.chr','SNP.start','SNP.end','SNP.label','SNP','SNP','SNP','SNP', 'peak.chr', 'peak.start', 'peak.end', 'geneID']) +'\\n')\n",
    "        for outr in out:\n",
    "            outfile.write('\\t'.join(outr[6:17] + [outr[24]]) + '\\n')\n",
    "    return(out)"
   ]
  },
  {
   "cell_type": "code",
   "execution_count": 5,
   "metadata": {},
   "outputs": [],
   "source": [
    "snpf = 'NSC_20_ASoC_FDR0.05.bed'\n",
    "peakf = 'NSC_merged_all_20_peaks.hotspot.bed'\n",
    "hicf = 'NPC.50000_blocks.converted.bed'\n",
    "annof = 'genecode.v29lift37.genes.promoter'\n",
    "outtag = 'NSC.hic'\n",
    "out = snp2gene(snpf, peakf, hicf, annof, outtag)"
   ]
  },
  {
   "cell_type": "code",
   "execution_count": 7,
   "metadata": {},
   "outputs": [],
   "source": [
    "snpf = 'CN_20_ASoC_FDR0.05.bed'\n",
    "peakf = 'CN_merged_all_20_peaks.hotspot.bed'\n",
    "hicf = 'Neu.50000_blocks.converted.bed'\n",
    "annof = 'genecode.v29lift37.genes.promoter'\n",
    "outtag = 'CN.hic'\n",
    "out = snp2gene(snpf, peakf, hicf, annof, outtag)"
   ]
  }
 ],
 "metadata": {
  "kernelspec": {
   "display_name": "Python [conda env:testotherpy3]",
   "language": "python",
   "name": "conda-env-testotherpy3-py"
  },
  "language_info": {
   "codemirror_mode": {
    "name": "ipython",
    "version": 3
   },
   "file_extension": ".py",
   "mimetype": "text/x-python",
   "name": "python",
   "nbconvert_exporter": "python",
   "pygments_lexer": "ipython3",
   "version": "3.6.7"
  }
 },
 "nbformat": 4,
 "nbformat_minor": 2
}
