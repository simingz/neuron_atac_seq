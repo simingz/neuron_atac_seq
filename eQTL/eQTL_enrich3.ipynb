{
 "cells": [
  {
   "cell_type": "markdown",
   "metadata": {},
   "source": [
    "## task description"
   ]
  },
  {
   "cell_type": "markdown",
   "metadata": {},
   "source": [
    "Define subset of ASoCs that can be uniquely assigned to genes ( 10kb, all genes; and 10kb, nearest genes). \n",
    "For this subset: estimate the proportion that are also eQTLs (use **GTEx data**) of the assigned genes. Compare with the random SNP set. \n",
    "\n",
    "TODO: when full eQTL data are available. You can take our ASC variants, obtain their eQTL p-values (all genes with 10kb, or nearest genes within 10kb), and do the QQ plot. You can also plot random SNPs in the same QQ plot. Also perform $\\pi1$ analysis.\n",
    "\n",
    "* **GTEx data, signficant eQTL**\n",
    "\n",
    "in hg38, `/project2/compbio/GTEx_dbGaP/GTEx_Analysis_2017-06-05_v8/eqtl/GTEx_Analysis_v8_eQTL`"
   ]
  },
  {
   "cell_type": "code",
   "execution_count": 2,
   "metadata": {},
   "outputs": [],
   "source": [
    "import csv\n",
    "import pybedtools\n",
    "import scipy.stats as stats"
   ]
  },
  {
   "cell_type": "code",
   "execution_count": 24,
   "metadata": {},
   "outputs": [],
   "source": [
    "def count_eqtl(snps,eqtlf,annof,dista):\n",
    "    # snp is a python list: [\"chrom:position\"]\n",
    "    # SNPs to genes\n",
    "    snpb = []\n",
    "    for s in snps:\n",
    "        chrom = s.split(\":\")[0]\n",
    "        pos = int(s.split(\":\")[1])\n",
    "        bedstart = max(int(pos - dista - 1),int(0))\n",
    "        bedend = int(pos + dista)\n",
    "        snpb.append([chrom, bedstart, bedend])\n",
    "    print(\"Number of SNPs: \" + str(len(snpb)))\n",
    "\n",
    "    snpbed = pybedtools.BedTool(snpb)\n",
    "    annobed = pybedtools.BedTool(annof)\n",
    "    snpgene = snpbed.intersect(annobed, wo=True)\n",
    "    snpgene0 = []\n",
    "    for i in snpgene:\n",
    "        i.start = i.end - dista - 1 \n",
    "        i.end = i.end - dista\n",
    "        snpgene0.append(i)\n",
    "    snpgene0 = pybedtools.BedTool(snpgene0)\n",
    "    snp2gene = snpgene0.sort().merge(c=\"8,9\", o=\"collapse,collapse\")\n",
    "    print(\"Number of SNPs within \" + str(int(dista))+ \"bp of genes: \" + str(len(snp2gene)))\n",
    "\n",
    "    # eqtls \n",
    "    eqtl = []\n",
    "    with open(eqtlf, 'r') as f:\n",
    "        csv_reader = csv.reader(f, delimiter = ' ')\n",
    "        next(csv_reader)\n",
    "        for row in csv_reader:\n",
    "            try:\n",
    "                eqtl.append('-'.join([row[7], row[1]])) # 'chrx:xx-gene'\n",
    "            except IndexError:\n",
    "                print(row)\n",
    "    eqtl = set(eqtl)\n",
    "\n",
    "    # snp-gene to eqtls\n",
    "    snp2gene2eqtl = []\n",
    "    for snp in snp2gene:\n",
    "        chrom = snp[0]\n",
    "        pos = int(int(snp[1]) + 1)\n",
    "        sgkey = set([chrom + \":\" + str(pos) + \"-\" + i.split('.')[0] for i in snp[3].split(\",\")])\n",
    "        if len(sgkey & eqtl) > 0:\n",
    "            snp2gene2eqtl.append(list(snp) + [\",\".join(list(sgkey & eqtl))])\n",
    "    print(\"Number of SNPs within \" + str(int(dista))+ \"bp of genes that are also eQTLs of any of these genes:\" + str(len(snp2gene2eqtl)))\n",
    "    return([len(snp2gene),len(snp2gene2eqtl),snp2gene2eqtl])"
   ]
  },
  {
   "cell_type": "markdown",
   "metadata": {},
   "source": [
    "# cell type CN"
   ]
  },
  {
   "cell_type": "markdown",
   "metadata": {},
   "source": [
    "## 10kb distance -- FDR = 0.1"
   ]
  },
  {
   "cell_type": "code",
   "execution_count": 25,
   "metadata": {},
   "outputs": [],
   "source": [
    "dista = 1e4\n",
    "snpf = 'CN_20_ASoC_FDR0.05.bed.chrpos.hg19'\n",
    "snprf = 'CN_20_ASoC_FDR0.05_matchedSNP/SNPmatch_100_matchedSNPs.txt'\n",
    "annof = '/home/simingz/neuron_atac_seq/HiC/genecode.v29lift37.genes'\n",
    "eQTLf = 'CMC_MSSM-Penn-Pitt_DLPFC_mRNA_eQTL-adjustedSVA.txt'"
   ]
  },
  {
   "cell_type": "code",
   "execution_count": 26,
   "metadata": {},
   "outputs": [
    {
     "name": "stdout",
     "output_type": "stream",
     "text": [
      "Counting for ASoC sets\n",
      "Number of SNPs: 5610\n",
      "Number of SNPs within 10000bp of genes: 4554\n",
      "Number of SNPs within 10000bp of genes that are also eQTLs of any of these genes:1074\n"
     ]
    }
   ],
   "source": [
    "snp = []\n",
    "with open(snpf, 'r') as f:\n",
    "    csv_reader = csv.reader(f)\n",
    "    next(csv_reader)\n",
    "    for row in csv_reader:\n",
    "        snp.append('chr' + row[0])\n",
    "print(\"Counting for ASoC sets\")\n",
    "countres = count_eqtl(snp,eQTLf,annof,dista)"
   ]
  },
  {
   "cell_type": "code",
   "execution_count": 5,
   "metadata": {},
   "outputs": [
    {
     "name": "stdout",
     "output_type": "stream",
     "text": [
      "Counting for random SNP sets\n",
      "Number of SNPs: 508000\n",
      "Number of SNPs within 10000bp of genes: 324246\n",
      "Number of SNPs within 10000bp of genes that are also eQTLs of any of these genes:43607\n"
     ]
    }
   ],
   "source": [
    "snpr = []\n",
    "with open(snprf, 'r') as f:\n",
    "    csv_reader = csv.reader(f, delimiter=\"\\t\")\n",
    "    next(csv_reader)\n",
    "    for row in csv_reader:\n",
    "        snpr.extend(['chr' + i for i in row[2:102]])\n",
    "print(\"Counting for random SNP sets\")\n",
    "rcountres = count_eqtl(snpr,eQTLf,annof,dista)"
   ]
  },
  {
   "cell_type": "code",
   "execution_count": 6,
   "metadata": {},
   "outputs": [
    {
     "name": "stdout",
     "output_type": "stream",
     "text": [
      "Percent of SNP is eQTL in ASoC: 0.23583662714097497\n",
      "Percent of SNP is eQTL in matched random set: 0.13448739537264917\n",
      "odds ratio: 1.9861719844093364\n",
      "p value: 1.2651394540226958e-74\n"
     ]
    }
   ],
   "source": [
    "print('Percent of SNP is eQTL in ASoC: ' + str(countres[1]/countres[0]))\n",
    "print('Percent of SNP is eQTL in matched random set: ' + str(rcountres[1]/rcountres[0]))\n",
    "\n",
    "mystat = [[countres[1], countres[0] - countres[1]], [rcountres[1], rcountres[0] - rcountres[1]]]\n",
    "odds, pvalue = stats.fisher_exact(mystat)\n",
    "print('odds ratio: ' + str(odds) + \"\\np value: \"+ str(pvalue))"
   ]
  },
  {
   "cell_type": "markdown",
   "metadata": {},
   "source": [
    "## 100kb distance"
   ]
  },
  {
   "cell_type": "code",
   "execution_count": 7,
   "metadata": {},
   "outputs": [],
   "source": [
    "dista = 1e5\n",
    "snpf = 'CN_20_ASoC_FDR0.05.bed.chrpos.hg19'\n",
    "snprf = 'CN_20_ASoC_FDR0.05_matchedSNP/SNPmatch_100_matchedSNPs.txt'\n",
    "annof = '/home/simingz/neuron_atac_seq/HiC/genecode.v29lift37.genes'\n",
    "eQTLf = 'CMC_MSSM-Penn-Pitt_DLPFC_mRNA_eQTL-adjustedSVA.txt'"
   ]
  },
  {
   "cell_type": "code",
   "execution_count": 8,
   "metadata": {},
   "outputs": [
    {
     "name": "stdout",
     "output_type": "stream",
     "text": [
      "Counting for ASoC sets\n",
      "Number of SNPs: 5610\n",
      "Number of SNPs within 100000bp of genes: 5415\n",
      "Number of SNPs within 100000bp of genes that are also eQTLs of any of these genes:1545\n"
     ]
    }
   ],
   "source": [
    "snp = []\n",
    "with open(snpf, 'r') as f:\n",
    "    csv_reader = csv.reader(f)\n",
    "    next(csv_reader)\n",
    "    for row in csv_reader:\n",
    "        snp.append('chr' + row[0])\n",
    "print(\"Counting for ASoC sets\")\n",
    "countres = count_eqtl(snp,eQTLf,annof,dista)"
   ]
  },
  {
   "cell_type": "code",
   "execution_count": 9,
   "metadata": {},
   "outputs": [
    {
     "name": "stdout",
     "output_type": "stream",
     "text": [
      "Counting for random SNP sets\n",
      "Number of SNPs: 508000\n",
      "Number of SNPs within 100000bp of genes: 458434\n",
      "Number of SNPs within 100000bp of genes that are also eQTLs of any of these genes:80390\n"
     ]
    }
   ],
   "source": [
    "snpr = []\n",
    "with open(snprf, 'r') as f:\n",
    "    csv_reader = csv.reader(f, delimiter=\"\\t\")\n",
    "    next(csv_reader)\n",
    "    for row in csv_reader:\n",
    "        snpr.extend(['chr' + i for i in row[2:102]])\n",
    "print(\"Counting for random SNP sets\")\n",
    "rcountres = count_eqtl(snpr,eQTLf,annof,dista)"
   ]
  },
  {
   "cell_type": "code",
   "execution_count": 10,
   "metadata": {},
   "outputs": [
    {
     "name": "stdout",
     "output_type": "stream",
     "text": [
      "Percent of SNP is eQTL in ASoC: 0.2853185595567867\n",
      "Percent of SNP is eQTL in matched random set: 0.17535784867614532\n",
      "odds ratio: 1.8774044363186828\n",
      "p value: 4.042011051050869e-87\n"
     ]
    }
   ],
   "source": [
    "print('Percent of SNP is eQTL in ASoC: ' + str(countres[1]/countres[0]))\n",
    "print('Percent of SNP is eQTL in matched random set: ' + str(rcountres[1]/rcountres[0]))\n",
    "\n",
    "mystat = [[countres[1], countres[0] - countres[1]], [rcountres[1], rcountres[0] - rcountres[1]]]\n",
    "odds, pvalue = stats.fisher_exact(mystat)\n",
    "print('odds ratio: ' + str(odds) + \"\\np value: \"+ str(pvalue))"
   ]
  },
  {
   "cell_type": "markdown",
   "metadata": {},
   "source": [
    "## 10kb distance -- FDR cut off = 0.1"
   ]
  },
  {
   "cell_type": "code",
   "execution_count": 18,
   "metadata": {},
   "outputs": [],
   "source": [
    "! awk -F' ' '$7 <0.1 {print $0}' CMC_MSSM-Penn-Pitt_DLPFC_mRNA_eQTL-adjustedSVA.txt > CMC_MSSM-Penn-Pitt_DLPFC_mRNA_eQTL-adjustedSVA.txt_fdr0.1"
   ]
  },
  {
   "cell_type": "code",
   "execution_count": 19,
   "metadata": {},
   "outputs": [],
   "source": [
    "dista = 1e4\n",
    "snpf = 'CN_20_ASoC_FDR0.05.bed.chrpos.hg19'\n",
    "snprf = 'CN_20_ASoC_FDR0.05_matchedSNP/SNPmatch_100_matchedSNPs.txt'\n",
    "annof = '/home/simingz/neuron_atac_seq/HiC/genecode.v29lift37.genes'\n",
    "eQTLf = 'CMC_MSSM-Penn-Pitt_DLPFC_mRNA_eQTL-adjustedSVA.txt_fdr0.1'"
   ]
  },
  {
   "cell_type": "code",
   "execution_count": 20,
   "metadata": {},
   "outputs": [
    {
     "name": "stdout",
     "output_type": "stream",
     "text": [
      "Counting for ASoC sets\n",
      "Number of SNPs: 5610\n",
      "Number of SNPs within 10000bp of genes: 4554\n",
      "Number of SNPs within 10000bp of genes that are also eQTLs of any of these genes:938\n"
     ]
    }
   ],
   "source": [
    "snp = []\n",
    "with open(snpf, 'r') as f:\n",
    "    csv_reader = csv.reader(f)\n",
    "    next(csv_reader)\n",
    "    for row in csv_reader:\n",
    "        snp.append('chr' + row[0])\n",
    "print(\"Counting for ASoC sets\")\n",
    "countres = count_eqtl(snp,eQTLf,annof,dista)"
   ]
  },
  {
   "cell_type": "code",
   "execution_count": 21,
   "metadata": {},
   "outputs": [
    {
     "name": "stdout",
     "output_type": "stream",
     "text": [
      "Counting for random SNP sets\n",
      "Number of SNPs: 508000\n",
      "Number of SNPs within 10000bp of genes: 324246\n",
      "Number of SNPs within 10000bp of genes that are also eQTLs of any of these genes:37445\n"
     ]
    }
   ],
   "source": [
    "snpr = []\n",
    "with open(snprf, 'r') as f:\n",
    "    csv_reader = csv.reader(f, delimiter=\"\\t\")\n",
    "    next(csv_reader)\n",
    "    for row in csv_reader:\n",
    "        snpr.extend(['chr' + i for i in row[2:102]])\n",
    "print(\"Counting for random SNP sets\")\n",
    "rcountres = count_eqtl(snpr,eQTLf,annof,dista)"
   ]
  },
  {
   "cell_type": "code",
   "execution_count": 22,
   "metadata": {},
   "outputs": [
    {
     "name": "stdout",
     "output_type": "stream",
     "text": [
      "Percent of SNP is eQTL in ASoC: 0.2059727711901625\n",
      "Percent of SNP is eQTL in matched random set: 0.1154833058850379\n",
      "odds ratio: 1.9868324427449344\n",
      "p value: 3.302292373703604e-67\n"
     ]
    }
   ],
   "source": [
    "print('Percent of SNP is eQTL in ASoC: ' + str(countres[1]/countres[0]))\n",
    "print('Percent of SNP is eQTL in matched random set: ' + str(rcountres[1]/rcountres[0]))\n",
    "\n",
    "mystat = [[countres[1], countres[0] - countres[1]], [rcountres[1], rcountres[0] - rcountres[1]]]\n",
    "odds, pvalue = stats.fisher_exact(mystat)\n",
    "print('odds ratio: ' + str(odds) + \"\\np value: \"+ str(pvalue))"
   ]
  },
  {
   "cell_type": "markdown",
   "metadata": {},
   "source": [
    "## 10kb distance -- FDR cutoff = 0.05"
   ]
  },
  {
   "cell_type": "code",
   "execution_count": 24,
   "metadata": {},
   "outputs": [],
   "source": [
    "! awk -F' ' '$7 <0.05 {print $0}' CMC_MSSM-Penn-Pitt_DLPFC_mRNA_eQTL-adjustedSVA.txt > CMC_MSSM-Penn-Pitt_DLPFC_mRNA_eQTL-adjustedSVA.txt_fdr0.05"
   ]
  },
  {
   "cell_type": "code",
   "execution_count": 25,
   "metadata": {},
   "outputs": [],
   "source": [
    "dista = 1e4\n",
    "snpf = 'CN_20_ASoC_FDR0.05.bed.chrpos.hg19'\n",
    "snprf = 'CN_20_ASoC_FDR0.05_matchedSNP/SNPmatch_100_matchedSNPs.txt'\n",
    "annof = '/home/simingz/neuron_atac_seq/HiC/genecode.v29lift37.genes'\n",
    "eQTLf = 'CMC_MSSM-Penn-Pitt_DLPFC_mRNA_eQTL-adjustedSVA.txt_fdr0.05'"
   ]
  },
  {
   "cell_type": "code",
   "execution_count": 26,
   "metadata": {},
   "outputs": [
    {
     "name": "stdout",
     "output_type": "stream",
     "text": [
      "Counting for ASoC sets\n",
      "Number of SNPs: 5610\n",
      "Number of SNPs within 10000bp of genes: 4554\n",
      "Number of SNPs within 10000bp of genes that are also eQTLs of any of these genes:853\n"
     ]
    }
   ],
   "source": [
    "snp = []\n",
    "with open(snpf, 'r') as f:\n",
    "    csv_reader = csv.reader(f)\n",
    "    next(csv_reader)\n",
    "    for row in csv_reader:\n",
    "        snp.append('chr' + row[0])\n",
    "print(\"Counting for ASoC sets\")\n",
    "countres = count_eqtl(snp,eQTLf,annof,dista)"
   ]
  },
  {
   "cell_type": "code",
   "execution_count": 27,
   "metadata": {},
   "outputs": [
    {
     "name": "stdout",
     "output_type": "stream",
     "text": [
      "Counting for random SNP sets\n",
      "Number of SNPs: 508000\n",
      "Number of SNPs within 10000bp of genes: 324246\n",
      "Number of SNPs within 10000bp of genes that are also eQTLs of any of these genes:33157\n"
     ]
    }
   ],
   "source": [
    "snpr = []\n",
    "with open(snprf, 'r') as f:\n",
    "    csv_reader = csv.reader(f, delimiter=\"\\t\")\n",
    "    next(csv_reader)\n",
    "    for row in csv_reader:\n",
    "        snpr.extend(['chr' + i for i in row[2:102]])\n",
    "print(\"Counting for random SNP sets\")\n",
    "rcountres = count_eqtl(snpr,eQTLf,annof,dista)"
   ]
  },
  {
   "cell_type": "code",
   "execution_count": 28,
   "metadata": {},
   "outputs": [
    {
     "name": "stdout",
     "output_type": "stream",
     "text": [
      "Percent of SNP is eQTL in ASoC: 0.1873078612209047\n",
      "Percent of SNP is eQTL in matched random set: 0.1022587788284204\n",
      "odds ratio: 2.023394247327346\n",
      "p value: 2.859791825374072e-65\n"
     ]
    }
   ],
   "source": [
    "print('Percent of SNP is eQTL in ASoC: ' + str(countres[1]/countres[0]))\n",
    "print('Percent of SNP is eQTL in matched random set: ' + str(rcountres[1]/rcountres[0]))\n",
    "\n",
    "mystat = [[countres[1], countres[0] - countres[1]], [rcountres[1], rcountres[0] - rcountres[1]]]\n",
    "odds, pvalue = stats.fisher_exact(mystat)\n",
    "print('odds ratio: ' + str(odds) + \"\\np value: \"+ str(pvalue))"
   ]
  }
 ],
 "metadata": {
  "kernelspec": {
   "display_name": "Python [conda env:testotherpy3]",
   "language": "python",
   "name": "conda-env-testotherpy3-py"
  },
  "language_info": {
   "codemirror_mode": {
    "name": "ipython",
    "version": 3
   },
   "file_extension": ".py",
   "mimetype": "text/x-python",
   "name": "python",
   "nbconvert_exporter": "python",
   "pygments_lexer": "ipython3",
   "version": "3.6.7"
  }
 },
 "nbformat": 4,
 "nbformat_minor": 2
}
